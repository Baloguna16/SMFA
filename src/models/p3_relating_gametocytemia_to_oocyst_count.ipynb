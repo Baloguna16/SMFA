{
 "cells": [
  {
   "cell_type": "code",
   "execution_count": 5,
   "metadata": {},
   "outputs": [],
   "source": [
    "import numpy as np\n",
    "import pandas as pd\n",
    "from sklearn import linear_model"
   ]
  },
  {
   "cell_type": "markdown",
   "metadata": {},
   "source": [
    "# 3. Relating Exflagellation to Oocyst Count\n",
    "\n",
    "The next step in our analysis is to observe the relationship between exflagellation and oocyst count. This notebook will walk through this analysis and the steps taken to define this relationship.\n",
    "\n",
    "I have chosen to measure exflagellation against oocyst count because gametocytemia has been held constant at 0.1% across SMFAs. This means that we cannot infer the affects of gametocytemia on infectivity. However, exflagellation appears to vary, even across fixed gametocytemia. This is likely because gametocytemia is purely a measure of parasite load whereas exflagellation is a measure of the mature *male* gametocytes in the population. If two samples have the saame gametocytemia, they might have different sex ratios which would affect the number zygotes produced in the host mosquito.\n",
    "\n",
    "Through this notebook, we can uncover how variation in exflagellation will affect oocyst output."
   ]
  },
  {
   "cell_type": "markdown",
   "metadata": {},
   "source": [
    "## Get Started\n",
    "\n",
    "Let's begin by importing a new csv containing the data for this relationship. We will be defining the relationship between percent exflagellation and oocyst count from the mosquito midgut at the time of dissection.\n",
    "\n"
   ]
  },
  {
   "cell_type": "code",
   "execution_count": null,
   "metadata": {},
   "outputs": [],
   "source": []
  }
 ],
 "metadata": {
  "kernelspec": {
   "display_name": "Python 3",
   "language": "python",
   "name": "python3"
  },
  "language_info": {
   "codemirror_mode": {
    "name": "ipython",
    "version": 3
   },
   "file_extension": ".py",
   "mimetype": "text/x-python",
   "name": "python",
   "nbconvert_exporter": "python",
   "pygments_lexer": "ipython3",
   "version": "3.7.6"
  }
 },
 "nbformat": 4,
 "nbformat_minor": 4
}
