{
 "cells": [
  {
   "cell_type": "code",
   "execution_count": 1,
   "metadata": {},
   "outputs": [],
   "source": [
    "import torch\n",
    "import numpy as np\n",
    "import pandas as pd"
   ]
  },
  {
   "cell_type": "markdown",
   "metadata": {},
   "source": [
    "# Extras\n",
    "\n",
    "This notebook is for extra ideas that I had or functions that I started writing, but then decided to pursue another method. I want to log them here in case someone else finds use for them or if I decide to return to them at some point."
   ]
  },
  {
   "cell_type": "markdown",
   "metadata": {},
   "source": [
    "## Functions\n",
    "\n",
    "These functions have been documented below with there own deeper explanation for context, use, and what it was abandoned for."
   ]
  },
  {
   "cell_type": "markdown",
   "metadata": {},
   "source": [
    "### Histograms for each gams source\n",
    "\n",
    "I began writing these functions to produce histograms for each of the data sources of gametocytemia. I wanted to group measurements taken by the age of the gaams at the point of measurement. This analysis would give a very superficial analysis of which days are best for gams feeding. Additionally, we could have compared the graphs produced by different sources to determine if the sources agree or shouw the same trend in data for the same experiment. See the functions below."
   ]
  },
  {
   "cell_type": "code",
   "execution_count": null,
   "metadata": {},
   "outputs": [],
   "source": [
    "# Generate a histogram for an array of gams measurements, x, which all have the same gams age and come from the same source\n",
    "def generate_histogram(x, title):\n",
    "    n_bins = 10 # TODO: determine where to set bins. low/higher/\n",
    "    plt.title(title)\n",
    "    plt.hist(x, bins=n_bins)\n",
    "    plt.show()\n",
    "    \n",
    "# Takes one array of gams data and generates a plot just to see trends over time.\n",
    "def graph_pdf_for_gams(gams_age, gams_codenames, gams_sourceN):\n",
    "    # Create a set of ages for which measurements where taken\n",
    "    ages = set(gams_age.flat)\n",
    "    for age in ages:\n",
    "        gams_at_this_age = gams_sourceN[gams_age == age]\n",
    "        \n",
    "        # Generate the histogram\n",
    "        generate_histogram(gams_at_this_age, f\"Gametocytemia Measurements at {age} days\")"
   ]
  }
 ],
 "metadata": {
  "kernelspec": {
   "display_name": "Python 3",
   "language": "python",
   "name": "python3"
  },
  "language_info": {
   "codemirror_mode": {
    "name": "ipython",
    "version": 3
   },
   "file_extension": ".py",
   "mimetype": "text/x-python",
   "name": "python",
   "nbconvert_exporter": "python",
   "pygments_lexer": "ipython3",
   "version": "3.7.6"
  }
 },
 "nbformat": 4,
 "nbformat_minor": 4
}
