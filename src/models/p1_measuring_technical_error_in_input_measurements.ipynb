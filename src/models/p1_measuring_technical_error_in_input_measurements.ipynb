{
 "cells": [
  {
   "cell_type": "code",
   "execution_count": 4,
   "metadata": {},
   "outputs": [],
   "source": [
    "import pandas as pd\n",
    "import numpy as np\n",
    "from matplotlib import pyplot as plt"
   ]
  },
  {
   "cell_type": "markdown",
   "metadata": {},
   "source": [
    "# 1. Measuring Technical Error in Input Measurements\n",
    "\n",
    "This is the first in the series of the development of the input-output model. If you have not read the README.md, please go back as I will not be recovering information."
   ]
  },
  {
   "cell_type": "markdown",
   "metadata": {},
   "source": [
    "## Get Started\n",
    "\n",
    "Let's get started. What will follow are a series of modules which will walk through the development of the model, step-by-step. With detailed documentation, hopefully future users will be able to pass their own data through the model, compare it to historical data, and refine the model for future use.\n",
    "\n",
    "### About This Notebook\n",
    "\n",
    "In this notebook, I will be documenting my comparisons between my data gathered and that gathered by a second source. I will do this comparison for the two inputs which were conducted over the course of the project:\n",
    "1. Stage V Gametocytemia Measurements\n",
    "2. Percent Exflagellation Measurements\n",
    "\n",
    "We can use this to find trends within each data set as opposed to building the model on the datasets themselves. Hopefully by measuring the trends within the data collected by each technician then measuring the differences between technicians, we can control and avoid error introduced by the technician into the model.\n",
    "\n",
    "Some conventions: I will be reading the data into the file as pandas.DataFrames then will convert them to numpy arrays. I will run mathematical operations on the numpy arrays, then visualize them as matplotlib plots. This is just personal preference, so feel free to build according to your own preferences."
   ]
  },
  {
   "cell_type": "markdown",
   "metadata": {},
   "source": [
    "## 1. Stage V Gametocytemia Measurements\n",
    "\n",
    "Stage V Gametocytemia is a meaurement of the percent of mature gametocytes in a population of cells on a giemsa smear. We measure gametocytemia through the following steps: (*eventually write out methods here*)\n",
    "\n",
    "Each function will be described in comments around the function. We will begin by reading in the data and formatting it for analysis. Please download your data as a .csv file and follow the steps below."
   ]
  },
  {
   "cell_type": "code",
   "execution_count": 7,
   "metadata": {},
   "outputs": [],
   "source": [
    "# This function takes a file containing gametocytemia data formatted accordingly\n",
    "# and it returns tuple of arrays\n",
    "def read_csv_gametocytemia_data(filename):\n",
    "    gams_data = pd.read_csv(filename) # read csv into pandas DataFrame\n",
    "    \n",
    "    # Produce arrays for each of the columns containing gams data. Each col should be from a different source\n",
    "    gams_source1 = gams_data['gams_source1'].to_numpy()\n",
    "    gams_source2 = gams_data['gams_source2'].to_numpy()\n",
    "    # gams_source3 = gams_data['gams_source3'].to_numpy()\n",
    "    # gams_source4 = ...\n",
    "    \n",
    "    # Produce arrays of age and codenames for each of the measurements from each of the sources\n",
    "    gams_age = gams_data['gams_age'].to_numpy()\n",
    "    gams_codenames = gams_data['codenames'].to_numpy()\n",
    "    \n",
    "    # Return these arrays in a tuple\n",
    "    return gams_age, gams_codenames, gams_source1, gams_source2 #, gams_source3..."
   ]
  },
  {
   "cell_type": "markdown",
   "metadata": {},
   "source": [
    "Now that we have a function for reading in our data. In the next cell, we will get the arrays so we can operate on them throughout the rest of the notebook. Notice how we receive the data: ```gams_age, gams_codenames, *gams_sources```. This is called **unpacking**, and the last term is particularly important. ```*gams_sources``` unpacks all of our *gams_sourceN* into its own tuple. Later, we will be able to call *gams_sources* to loop through all of our source data arrays."
   ]
  },
  {
   "cell_type": "code",
   "execution_count": 8,
   "metadata": {},
   "outputs": [],
   "source": [
    "# Saves outputs as an age of gams array, a codename array, and tuple of measurement arrays of N length (N = number of sources) \n",
    "\n",
    "FILENAME = \"../../data/p1_gametocytemia_measurement_trends.csv\" # Set the path to your file here\n",
    "gams_age, gams_codenames, *gams_sources = read_csv_gametocytemia_data(filename=FILENAME) # Run function here"
   ]
  },
  {
   "cell_type": "markdown",
   "metadata": {},
   "source": [
    "Now, lets measure each of the gams data arrays before we compare them to each other. We can do this by measuring the mean and standard deviation. We can also build a probability distribution function to visualize how each of the measurements from a given source may vary by day. We must separate the measurements by day (a.k.a. how old the gametocytes are) because we suspect that gametocytemia is dependent on the age of the gametocytes.\n",
    "\n",
    "Links for Graphing, Probability, and Analysis\n",
    "* [Normalizing Data](https://developers.google.com/machine-learning/data-prep/transform/normalization)\n",
    "\n",
    "This is the first step in understanding gametocytemia. As our measurements we're taken on gametocytes at different ages, how did their ages affect the percent gametocytemia yielded? Let's find out:"
   ]
  },
  {
   "cell_type": "code",
   "execution_count": 11,
   "metadata": {},
   "outputs": [],
   "source": [
    "# TODO: function which calculates the mean and standard deviation to return a regression model for the gams data array\n",
    "# the regressions should probably take the same equation format with varying constants and scalars.\n",
    "def calculate_mean_and_std_for_gams(gams_arr, gams_age):\n",
    "    gams_means_and_stds = {}\n",
    "    ages = set(gams_age.flat)\n",
    "    for age in ages:\n",
    "        gams_at_this_age = gams_arr[gams_age == age]\n",
    "        gams_mean = gams_at_this_age.mean()\n",
    "        gams_std = gams_at_this_age.std()\n",
    "        gams_means_and_stds[age] = {\"mean\": gams_mean, \"std\": gams_std}\n",
    "    return pd.DataFrame.from_dict(gams_means_and_stds, orient='index')"
   ]
  },
  {
   "cell_type": "code",
   "execution_count": null,
   "metadata": {},
   "outputs": [],
   "source": [
    "def generate_pdf_for_gams(gams_sourceN, mu, sigma):\n",
    "    # TODO: Normalize the data to account for error between sources: x' = (x - mu) / sigma\n",
    "    # TODO: Plot Normalized data against its probability in the dataset. Do this per age of gams.\n",
    "    pass"
   ]
  },
  {
   "cell_type": "markdown",
   "metadata": {},
   "source": [
    "From there, we will build a regression around each of the arrays.\n",
    "If the trends within each gams data array (i.e. across observers) are the same, then we should expect our regressions to be similar between the arrays. Let's look:"
   ]
  },
  {
   "cell_type": "code",
   "execution_count": 18,
   "metadata": {},
   "outputs": [],
   "source": [
    "def generate_regression_for_gams(gams_arr, gams_means_and_stds):\n",
    "    constants = {} # a dictionary where the constant's name in the regression is key and the value is value\n",
    "    scalars = {} # a dictionary where the scalar's name in the regression is key and the value is value\n",
    "    return constants, scalars\n",
    "\n",
    "# TODO: compare the constants and scalars across the regression models. Maybe we can plot these differences\n",
    "# Ideally, we would want N-large number of observers on the same codenames to measure this variation\n",
    "def distribution_of_regressions_for_gams(list_of_regressions):\n",
    "    # TODO: generate a distribution of the regressions constants and scalars\n",
    "    # to measure variation between them\n",
    "    pass\n",
    "\n",
    "# TODO: run a qualitative analysis of the regressions of the input data"
   ]
  },
  {
   "cell_type": "markdown",
   "metadata": {},
   "source": [
    "Now that we've defined our equations, lets iterate through the data arrays with them,"
   ]
  },
  {
   "cell_type": "code",
   "execution_count": null,
   "metadata": {},
   "outputs": [],
   "source": [
    "# Run code here"
   ]
  },
  {
   "cell_type": "code",
   "execution_count": null,
   "metadata": {},
   "outputs": [],
   "source": []
  },
  {
   "cell_type": "code",
   "execution_count": 47,
   "metadata": {},
   "outputs": [],
   "source": [
    "def create_scatter_plot(x_axis, y_axis, title, x, ys):\n",
    "    fig, ax = plt.subplots()\n",
    "    \n",
    "    for y in ys:\n",
    "        ax.scatter(x, y.values(), label=y.keys())\n",
    "        \n",
    "    plt.xlabel(x_axis) #set x axis label\n",
    "    plt.ylabel(y_axis) #set y axis label\n",
    "    plt.title(title)\n",
    "    \n",
    "    ax.legend()\n",
    "    ax.grid(True)\n",
    "    plt.show"
   ]
  },
  {
   "cell_type": "code",
   "execution_count": 48,
   "metadata": {},
   "outputs": [
    {
     "data": {
      "image/png": "[encoded data removed]",
      "text/plain": [
       "<Figure size 432x288 with 1 Axes>"
      ]
     },
     "metadata": {
      "needs_background": "light"
     },
     "output_type": "display_data"
    }
   ],
   "source": [
    "ys = []\n",
    "for label in [\"gams_farah\", \"gams_ade\"]:\n",
    "    ys.append({label: list(df[label])})\n",
    "\n",
    "create_scatter_plot(\n",
    "    x_axis=\"Age of Gams (d)\", \n",
    "    y_axis=\"Stage V Gams\", \n",
    "    title=\"Gams change with time\", \n",
    "    x=df[\"age_of_gams\"],\n",
    "    ys=ys\n",
    ")"
   ]
  },
  {
   "cell_type": "code",
   "execution_count": null,
   "metadata": {},
   "outputs": [],
   "source": []
  }
 ],
 "metadata": {
  "kernelspec": {
   "display_name": "Python 3",
   "language": "python",
   "name": "python3"
  },
  "language_info": {
   "codemirror_mode": {
    "name": "ipython",
    "version": 3
   },
   "file_extension": ".py",
   "mimetype": "text/x-python",
   "name": "python",
   "nbconvert_exporter": "python",
   "pygments_lexer": "ipython3",
   "version": "3.7.6"
  }
 },
 "nbformat": 4,
 "nbformat_minor": 4
}
